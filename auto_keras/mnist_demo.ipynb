{
 "metadata": {
  "language_info": {
   "codemirror_mode": {
    "name": "ipython",
    "version": 3
   },
   "file_extension": ".py",
   "mimetype": "text/x-python",
   "name": "python",
   "nbconvert_exporter": "python",
   "pygments_lexer": "ipython3",
   "version": "3.8.5-final"
  },
  "orig_nbformat": 2,
  "kernelspec": {
   "name": "python3",
   "display_name": "Python 3",
   "language": "python"
  }
 },
 "nbformat": 4,
 "nbformat_minor": 2,
 "cells": [
  {
   "cell_type": "code",
   "execution_count": 2,
   "metadata": {},
   "outputs": [],
   "source": [
    "import numpy as np\n",
    "import tensorflow as tf\n",
    "from tensorflow.keras.datasets import mnist\n",
    "from tensorflow.python.keras.utils.data_utils import Sequence\n",
    "import autokeras as ak\n",
    "(x_train, y_train), (x_test, y_test) = mnist.load_data()"
   ]
  },
  {
   "cell_type": "code",
   "execution_count": null,
   "metadata": {},
   "outputs": [],
   "source": [
    "'image_classifier'\n",
    "# Initialize the image classifier.\n",
    "clf = ak.ImageClassifier(\n",
    "    overwrite=True,\n",
    "    max_trials=1)\n",
    "# Feed the image classifier with training data.\n",
    "clf.fit(x_train, y_train, epochs=1)\n",
    "# Predict with the best model.\n",
    "predicted_y = clf.predict(x_test)\n",
    "print(predicted_y)\n",
    "# Evaluate the best model with testing data.\n",
    "print(clf.evaluate(x_test, y_test))\n",
    "clf.export_model().summary()"
   ]
  },
  {
   "cell_type": "code",
   "execution_count": 3,
   "metadata": {},
   "outputs": [
    {
     "output_type": "stream",
     "name": "stdout",
     "text": [
      "Trial 1 Complete [00h 42m 20s]\n",
      "val_loss: 0.19900931417942047\n",
      "\n",
      "Best val_loss So Far: 0.19900931417942047\n",
      "Total elapsed time: 00h 42m 20s\n",
      "INFO:tensorflow:Oracle triggered exit\n",
      "1875/1875 [==============================] - 3243s 2s/step - loss: 0.7086 - accuracy: 0.8432\n",
      "INFO:tensorflow:Assets written to: ./auto_model/best_model/assets\n",
      "313/313 [==============================] - 25s 74ms/step - loss: 0.2358 - accuracy: 0.9469\n",
      "[0.2357538342475891, 0.9469000101089478]\n"
     ]
    }
   ],
   "source": [
    "'auto_model'\n",
    "# 定制搜索空间\n",
    "input_node = ak.ImageInput()\n",
    "output_node = ak.ImageBlock(\n",
    "    # Only search ResNet architectures.\n",
    "    block_type=\"resnet\",\n",
    "    # Normalize the dataset.\n",
    "    normalize=True,\n",
    "    # Do not do data augmentation.\n",
    "    augment=False,\n",
    ")(input_node)\n",
    "output_node = ak.ClassificationHead()(output_node)\n",
    "\n",
    "clf = ak.AutoModel(\n",
    "    inputs=input_node,\n",
    "    outputs=output_node,\n",
    "    overwrite=True,\n",
    "    max_trials=1)\n",
    "clf.fit(x_train, y_train, epochs=1)\n",
    "print(clf.evaluate(x_test, y_test))"
   ]
  },
  {
   "cell_type": "code",
   "execution_count": 5,
   "metadata": {},
   "outputs": [
    {
     "output_type": "stream",
     "name": "stdout",
     "text": [
      "Model: \"model\"\n__________________________________________________________________________________________________\nLayer (type)                    Output Shape         Param #     Connected to                     \n==================================================================================================\ninput_1 (InputLayer)            [(None, 28, 28)]     0                                            \n__________________________________________________________________________________________________\ncast_to_float32 (CastToFloat32) (None, 28, 28)       0           input_1[0][0]                    \n__________________________________________________________________________________________________\nexpand_last_dim (ExpandLastDim) (None, 28, 28, 1)    0           cast_to_float32[0][0]            \n__________________________________________________________________________________________________\nnormalization (Normalization)   (None, 28, 28, 1)    3           expand_last_dim[0][0]            \n__________________________________________________________________________________________________\nresizing (Resizing)             (None, 32, 32, 1)    0           normalization[0][0]              \n__________________________________________________________________________________________________\nconcatenate (Concatenate)       (None, 32, 32, 3)    0           resizing[0][0]                   \n                                                                 resizing[0][0]                   \n                                                                 resizing[0][0]                   \n__________________________________________________________________________________________________\nresnet50 (Functional)           (None, 1, 1, 2048)   23587712    concatenate[0][0]                \n__________________________________________________________________________________________________\nglobal_average_pooling2d (Globa (None, 2048)         0           resnet50[0][0]                   \n__________________________________________________________________________________________________\ndropout (Dropout)               (None, 2048)         0           global_average_pooling2d[0][0]   \n__________________________________________________________________________________________________\ndense (Dense)                   (None, 10)           20490       dropout[0][0]                    \n__________________________________________________________________________________________________\nclassification_head_1 (Softmax) (None, 10)           0           dense[0][0]                      \n==================================================================================================\nTotal params: 23,608,205\nTrainable params: 23,555,082\nNon-trainable params: 53,123\n__________________________________________________________________________________________________\n"
     ]
    }
   ],
   "source": [
    "clf.export_model().summary()"
   ]
  },
  {
   "cell_type": "code",
   "execution_count": null,
   "metadata": {},
   "outputs": [],
   "source": []
  }
 ]
}