{
 "metadata": {
  "language_info": {
   "codemirror_mode": {
    "name": "ipython",
    "version": 3
   },
   "file_extension": ".py",
   "mimetype": "text/x-python",
   "name": "python",
   "nbconvert_exporter": "python",
   "pygments_lexer": "ipython3",
   "version": "3.8.5-final"
  },
  "orig_nbformat": 2,
  "kernelspec": {
   "name": "python3",
   "display_name": "Python 3.8.5 64-bit",
   "metadata": {
    "interpreter": {
     "hash": "767d51c1340bd893661ea55ea3124f6de3c7a262a8b4abca0554b478b1e2ff90"
    }
   }
  }
 },
 "nbformat": 4,
 "nbformat_minor": 2,
 "cells": [
  {
   "cell_type": "code",
   "execution_count": null,
   "metadata": {},
   "outputs": [],
   "source": [
    "'TensorFlow Lite Model Maker库'\n",
    "'简化了在设备上ML应用程序中部署TensorFlow模型并将其转换为特定输入数据的过程。'\n",
    "import numpy as np\n",
    "import os\n",
    "\n",
    "import tensorflow as tf\n",
    "assert tf.__version__.startswith('2')\n",
    "\n",
    "from tflite_model_maker import configs\n",
    "from tflite_model_maker import ExportFormat\n",
    "from tflite_model_maker import model_spec\n",
    "from tflite_model_maker import text_classifier\n",
    "from tflite_model_maker import TextClassifierDataLoader\n",
    "\n",
    "# 斯坦福情绪树库\n",
    "# 包含用于培训的67,349条电影评论和用于验证的872条电影评论。数据集有两类：正面和负面电影评论。\n",
    "data_dir = tf.keras.utils.get_file(\n",
    "    fname='SST-2.zip',\n",
    "    origin='https://dl.fbaipublicfiles.com/glue/data/SST-2.zip',\n",
    "    extract=True\n",
    ")\n",
    "data_dir = os.path.join(os.path.dirname(data_dir), 'SST-2')"
   ]
  },
  {
   "cell_type": "code",
   "execution_count": null,
   "metadata": {},
   "outputs": [],
   "source": [
    "# TensorFlow Lite Model Maker currently supports :\n",
    "# MobileBERT, averaging word embeddings and BERT-Base models.\n",
    "\n",
    "# 采用较小的模型：mobileBERT\n",
    "spec = model_spec.get('mobilebert_classifier')\n",
    "spec_bert = model_spec.get('bert_classifier')\n",
    "\n",
    "# 加载特定于设备上ML应用程序的训练和测试数据，并根据特定的数据进行预处理\n",
    "train_data = TextClassifierDataLoader.from_csv(\n",
    "      filename=os.path.join(os.path.join(data_dir, 'train.tsv')),\n",
    "      text_column='sentence',\n",
    "      label_column='label',\n",
    "      model_spec=spec,\n",
    "      delimiter='\\t',\n",
    "      is_training=True)\n",
    "test_data = TextClassifierDataLoader.from_csv(\n",
    "      filename=os.path.join(os.path.join(data_dir, 'dev.tsv')),\n",
    "      text_column='sentence',\n",
    "      label_column='label',\n",
    "      model_spec=spec,\n",
    "      delimiter='\\t',\n",
    "      is_training=False)\n",
    "# 自定义TensorFlow模型\n",
    "model = text_classifier.create(train_data, model_spec=spec,epochs=1)\n",
    "model.summary()"
   ]
  },
  {
   "cell_type": "code",
   "execution_count": null,
   "metadata": {},
   "outputs": [],
   "source": [
    "# 评估模型\n",
    "loss, acc = model.evaluate(test_data)\n",
    "# 量化模型，导出为带有元数据的TensorFlow Lite模型。\n",
    "config = configs.QuantizationConfig.create_dynamic_range_quantization(\n",
    "    optimizations=[tf.lite.Optimize.OPTIMIZE_FOR_LATENCY]\n",
    ")\n",
    "config.experimental_new_quantizer = True\n",
    "# 使用元数据将现有模型转换为TensorFlow Lite模型格式，以后可在设备上的ML应用程序中使用。\n",
    "# 标签文件和vocab文件嵌入在元数据中。TFLite的默认文件名是model.tflite。\n",
    "model.export(export_dir='mobilebert/', quantization_config=config)\n",
    "# 使用evaluate_tflite方法评估tflite模型以获取其准确性。\n",
    "accuracy = model.evaluate_tflite('average_word_vec/model.tflite', test_data)"
   ]
  }
 ]
}